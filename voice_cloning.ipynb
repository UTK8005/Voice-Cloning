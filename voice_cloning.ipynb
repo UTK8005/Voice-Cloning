{
 "cells": [
  {
   "cell_type": "code",
   "execution_count": 3,
   "id": "44fe88cd-c2a0-4587-a93c-68480ca601ea",
   "metadata": {
    "execution": {
     "iopub.execute_input": "2023-11-30T06:28:40.643847Z",
     "iopub.status.busy": "2023-11-30T06:28:40.643503Z",
     "iopub.status.idle": "2023-11-30T06:30:31.427074Z",
     "shell.execute_reply": "2023-11-30T06:30:31.425907Z",
     "shell.execute_reply.started": "2023-11-30T06:28:40.643821Z"
    }
   },
   "outputs": [
    {
     "name": "stderr",
     "output_type": "stream",
     "text": [
      "/usr/local/lib/python3.9/dist-packages/TTS/api.py:76: UserWarning: `gpu` will be deprecated. Please use `tts.to(device)` instead.\n",
      "  warnings.warn(\"`gpu` will be deprecated. Please use `tts.to(device)` instead.\")\n"
     ]
    },
    {
     "name": "stdout",
     "output_type": "stream",
     "text": [
      " > You must agree to the terms of service to use this model.\n",
      " | > Please see the terms of service at https://coqui.ai/cpml.txt\n",
      " | > \"I have read, understood and agreed to the Terms and Conditions.\" - [y/n]\n"
     ]
    },
    {
     "name": "stdin",
     "output_type": "stream",
     "text": [
      " | | >  y\n"
     ]
    },
    {
     "name": "stdout",
     "output_type": "stream",
     "text": [
      " > Downloading model to /root/.local/share/tts/tts_models--multilingual--multi-dataset--xtts_v2\n"
     ]
    },
    {
     "name": "stderr",
     "output_type": "stream",
     "text": [
      "100%|█████████▉| 1.87G/1.87G [00:31<00:00, 57.2MiB/s]\n",
      "100%|██████████| 1.87G/1.87G [00:32<00:00, 58.3MiB/s]\n",
      "100%|██████████| 4.37k/4.37k [00:00<00:00, 5.37kiB/s]\n",
      "\n",
      "100%|██████████| 361k/361k [00:00<00:00, 955kiB/s]\n"
     ]
    },
    {
     "name": "stdout",
     "output_type": "stream",
     "text": [
      " > Model's license - CPML\n",
      " > Check https://coqui.ai/cpml.txt for more info.\n"
     ]
    },
    {
     "name": "stderr",
     "output_type": "stream",
     "text": [
      "/usr/local/lib/python3.9/dist-packages/thinc/compat.py:36: UserWarning: 'has_mps' is deprecated, please use 'torch.backends.mps.is_built()'\n",
      "  hasattr(torch, \"has_mps\")\n",
      "/usr/local/lib/python3.9/dist-packages/thinc/compat.py:37: UserWarning: 'has_mps' is deprecated, please use 'torch.backends.mps.is_built()'\n",
      "  and torch.has_mps  # type: ignore[attr-defined]\n"
     ]
    },
    {
     "name": "stdout",
     "output_type": "stream",
     "text": [
      " > Using model: xtts\n",
      " > Text splitted to sentences.\n",
      "['Hello this is Utkarsh Ujwal.', 'I am calling from Liverpool, UK.', 'I have applied for the post of Jr AI Engineer in Listed.']\n",
      " > Processing time: 14.88557481765747\n",
      " > Real-time factor: 0.8958549629059872\n"
     ]
    },
    {
     "data": {
      "text/plain": [
       "'output.wav'"
      ]
     },
     "execution_count": 3,
     "metadata": {},
     "output_type": "execute_result"
    }
   ],
   "source": [
    "# !pip install TTS install the package first \n",
    "from TTS.api import TTS # this is text to speech \n",
    "tts = TTS(\"tts_models/multilingual/multi-dataset/xtts_v2\", gpu=True) # this will use the model xtts from  tts library\n",
    "# this model uses only 6 second audio clip  for voice cloning which is way faster\n",
    "\n",
    "tts.tts_to_file(text=\"Hello this is Utkarsh Ujwal. I am calling from Liverpool, UK. I have applied for the post of Jr AI Engineer in Listed.\",\n",
    "                file_path=\"output.wav\",\n",
    "                speaker_wav=\"/notebooks/hindifile.wav\", # this is my own voice as I didnt want to use any other's voice.\n",
    "                language=\"en\") # the task here is to convert from Hindi to English"
   ]
  },
  {
   "cell_type": "code",
   "execution_count": null,
   "id": "b7442396-d8e0-4de9-9dbc-ff2290ba7249",
   "metadata": {},
   "outputs": [],
   "source": [
    "# so inference is relatively easy\n",
    "# paste the target audio in wav format as TTS models use wav files for encoding the audio files\n"
   ]
  }
 ],
 "metadata": {
  "kernelspec": {
   "display_name": "Python 3 (ipykernel)",
   "language": "python",
   "name": "python3"
  },
  "language_info": {
   "codemirror_mode": {
    "name": "ipython",
    "version": 3
   },
   "file_extension": ".py",
   "mimetype": "text/x-python",
   "name": "python",
   "nbconvert_exporter": "python",
   "pygments_lexer": "ipython3",
   "version": "3.9.16"
  }
 },
 "nbformat": 4,
 "nbformat_minor": 5
}
